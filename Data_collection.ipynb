{
 "cells": [
  {
   "cell_type": "markdown",
   "id": "cd0d6146",
   "metadata": {},
   "source": [
    "# Data Collection"
   ]
  },
  {
   "cell_type": "markdown",
   "id": "37534578",
   "metadata": {},
   "source": [
    "The dataset was optained by the *(Neo - Browse)* asteroid dataset of [NASA Asteroids NeoWS](https://api.nasa.gov/)\n",
    "\n",
    "NeoWs (Near Earth Object Web Service) is a RESTful web service for near earth Asteroid information. With NeoWs a user can: \n",
    "\n",
    "* search for Asteroids based on their closest approach date to Earth (*Neo - Feed*), \n",
    "* lookup a specific Asteroid with its NASA JPL small body id (*Neo - Lookup*),\n",
    "* browse the overall data-set (*Neo - Browse*).\n",
    "\n",
    "I used the overall dataset (*Neo - Browse*) of the asteroids."
   ]
  },
  {
   "cell_type": "code",
   "execution_count": 1,
   "id": "260509e2",
   "metadata": {},
   "outputs": [],
   "source": [
    "import urllib.request\n",
    "import json"
   ]
  },
  {
   "cell_type": "markdown",
   "id": "7db3c5c4",
   "metadata": {},
   "source": [
    "The Neo - Browse endpoint of [NASA Asteroids NeoWS](https://api.nasa.gov/) is :\n",
    "\n",
    "    https://api.nasa.gov/neo/rest/v1/neo/browse/\n",
    "\n",
    "A successful `GET` request returns one page from the overall Asteroid data-set. There are 1602 pages and thus multiple `GET` requests should be sent.\n",
    "\n",
    "The results of each `GET` request are converted to a Python Dictionary and are appended to `asteroids` list.  \n"
   ]
  },
  {
   "cell_type": "code",
   "execution_count": 2,
   "id": "9c2a27f8",
   "metadata": {},
   "outputs": [],
   "source": [
    "api_key = 'Aj6FrzZCR5Gzbv8KHX4jqR3bvNAOTAxihJ6DVJaB'\n",
    "\n",
    "asteroids = []\n",
    "# page_no : gets multiple pages\n",
    "# total number of available pages are 1602 pages\n",
    "# get all pages\n",
    "for page_no in range(1602):\n",
    "    end_point = \"http://api.nasa.gov/neo/rest/v1/neo/browse?page=\"+str(page_no)+\"&size=20&api_key=\"+api_key\n",
    "    response = urllib.request.urlopen(end_point)\n",
    "    raw_json = response.read().decode(\"utf-8\")\n",
    "    response_data = json.loads(raw_json)\n",
    "    # asteroids list contains only the near_earth_objects data.\n",
    "    asteroids.append(response_data['near_earth_objects'])"
   ]
  },
  {
   "cell_type": "markdown",
   "id": "97c828c2",
   "metadata": {},
   "source": [
    "At the end, the `asteroids` list contains the results of all pages and it is stored in the `Full_asteroids.json` file"
   ]
  },
  {
   "cell_type": "code",
   "execution_count": 3,
   "id": "176f73df",
   "metadata": {},
   "outputs": [
    {
     "name": "stdout",
     "output_type": "stream",
     "text": [
      "Writing data to test.json\n"
     ]
    }
   ],
   "source": [
    "fname = \"Full_asteroids.json\"\n",
    "print(\"Writing data to %s\" % fname)\n",
    "fout = open(fname, \"w\")\n",
    "json.dump(asteroids, fout, indent=4, sort_keys=True)\n",
    "fout.close()"
   ]
  }
 ],
 "metadata": {
  "kernelspec": {
   "display_name": "Python 3 (ipykernel)",
   "language": "python",
   "name": "python3"
  },
  "language_info": {
   "codemirror_mode": {
    "name": "ipython",
    "version": 3
   },
   "file_extension": ".py",
   "mimetype": "text/x-python",
   "name": "python",
   "nbconvert_exporter": "python",
   "pygments_lexer": "ipython3",
   "version": "3.9.16"
  }
 },
 "nbformat": 4,
 "nbformat_minor": 5
}
